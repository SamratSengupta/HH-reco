{
 "cells": [
  {
   "cell_type": "code",
   "execution_count": 1,
   "id": "e3b2f581-83d7-4ee9-b56f-5b4141bacf86",
   "metadata": {},
   "outputs": [],
   "source": [
    "import pandas as pd\n",
    "import numpy as np\n",
    "import matplotlib.pyplot as plt\n",
    "import seaborn as sns\n",
    "import json\n",
    "import re\n",
    "pd.set_option('display.max_columns', None)\n",
    "import tensorflow as tf\n",
    "import xml.etree.ElementTree as ET"
   ]
  },
  {
   "cell_type": "code",
   "execution_count": 2,
   "id": "0093cdb5-80c8-4aee-ab0d-bbd86762c50b",
   "metadata": {},
   "outputs": [],
   "source": [
    "from sklearn.preprocessing import StandardScaler, OneHotEncoder,MinMaxScaler\n",
    "from sklearn.model_selection import train_test_split"
   ]
  },
  {
   "cell_type": "code",
   "execution_count": 32,
   "id": "b1642e50-cdc3-4cf8-b5c5-abeb563b1ac0",
   "metadata": {},
   "outputs": [],
   "source": [
    "import tensorflow as tf\n",
    "from tensorflow.keras.layers import Input, Dense, Concatenate, Flatten, Dropout, Embedding\n",
    "from tensorflow.keras.models import Model\n",
    "from tensorflow.keras.callbacks import EarlyStopping"
   ]
  },
  {
   "cell_type": "code",
   "execution_count": 3,
   "id": "66d42ee5-33d7-4f81-8f3a-a1aa875d378f",
   "metadata": {},
   "outputs": [],
   "source": [
    "data_path = 'processed_data/'"
   ]
  },
  {
   "cell_type": "code",
   "execution_count": 4,
   "id": "85a014b8-cb9f-4095-bce8-da6d15f27507",
   "metadata": {},
   "outputs": [
    {
     "data": {
      "text/plain": [
       "Index(['PERSON_ID', 'ProviderCode', 'ratings'], dtype='object')"
      ]
     },
     "execution_count": 4,
     "metadata": {},
     "output_type": "execute_result"
    }
   ],
   "source": [
    "## ratings ##\n",
    "df_ratings_score = pd.read_csv(data_path + 'Ratings_Reviews.csv')\n",
    "df_ratings_score = df_ratings_score[['PERSON_ID','SurveyAnswerScore', 'RecommendStar', 'ProviderCode']]\n",
    "df_ratings_score=df_ratings_score.groupby(['PERSON_ID','ProviderCode']).agg({'SurveyAnswerScore' : 'mean','RecommendStar':'mean'}).reset_index()\n",
    "df_ratings_score['ratings'] = df_ratings_score['SurveyAnswerScore'] * 0.5 + df_ratings_score['RecommendStar'] *0.5\n",
    "df_ratings_score['ratings']=df_ratings_score['ratings'].apply(lambda x : np.round(x,2))\n",
    "df_ratings_score = df_ratings_score.drop(['RecommendStar','SurveyAnswerScore'],axis=1)\n",
    "df_ratings_score.columns"
   ]
  },
  {
   "cell_type": "code",
   "execution_count": 5,
   "id": "bc597d54-bdb6-4b99-9833-7cb6e8ac3835",
   "metadata": {},
   "outputs": [
    {
     "data": {
      "text/plain": [
       "Index(['FACILITYCODE', 'FACILITYNAME', 'FACILITYTYPECODE', 'zip_code'], dtype='object')"
      ]
     },
     "execution_count": 5,
     "metadata": {},
     "output_type": "execute_result"
    }
   ],
   "source": [
    "##facility##\n",
    "df_facility = pd.read_csv(data_path + 'Provider/facility.csv')\n",
    "def extract_zip_code(address):\n",
    "    # Regular expression to match 5-digit zip code\n",
    "    match = re.search(r'\\b\\d{5}\\b', address)\n",
    "    if match:\n",
    "        return match.group()\n",
    "    return None\n",
    "\n",
    "df_facility = df_facility[['FACILITYCODE','FACILITYNAME','FACILITYTYPECODE','ADDRESSXML']]\n",
    "df_facility['zip_code'] = df_facility['ADDRESSXML'].apply(lambda x : extract_zip_code(x))\n",
    "df_facility=df_facility.drop(['ADDRESSXML'],axis=1)\n",
    "df_facility.columns"
   ]
  },
  {
   "cell_type": "code",
   "execution_count": 6,
   "id": "7194dfa6-8d9c-4688-b1d4-1e863f4937eb",
   "metadata": {},
   "outputs": [
    {
     "data": {
      "text/plain": [
       "Index(['SpecialtyCode', 'SpecialtyDescription', 'SpecialistDescription'], dtype='object')"
      ]
     },
     "execution_count": 6,
     "metadata": {},
     "output_type": "execute_result"
    }
   ],
   "source": [
    "#speciality\n",
    "df_speciality = pd.read_csv(data_path + 'Provider/speciality.csv')\n",
    "df_speciality = df_speciality[['SpecialtyCode','SpecialtyDescription','SpecialistDescription']]\n",
    "df_speciality.columns"
   ]
  },
  {
   "cell_type": "code",
   "execution_count": 7,
   "id": "d62b7cb1-4309-421f-9e50-6b1ae5f5d2c8",
   "metadata": {},
   "outputs": [
    {
     "data": {
      "text/plain": [
       "Index(['PROVIDERCODE', 'FACILITYCODE'], dtype='object')"
      ]
     },
     "execution_count": 7,
     "metadata": {},
     "output_type": "execute_result"
    }
   ],
   "source": [
    "#provider facility\n",
    "df_provider_facility = pd.read_csv(data_path + 'Provider/ProviderToFacility.csv')\n",
    "df_provider_facility = df_provider_facility[['PROVIDERCODE','FACILITYCODE']]\n",
    "df_provider_facility.columns"
   ]
  },
  {
   "cell_type": "code",
   "execution_count": 8,
   "id": "76e84200-bd4f-4854-af8a-aa5de8eb52d5",
   "metadata": {},
   "outputs": [
    {
     "data": {
      "text/plain": [
       "Index(['PROVIDERCODE', 'SPECIALTYCODE', 'SPECIALTYRANKCALCULATED'], dtype='object')"
      ]
     },
     "execution_count": 8,
     "metadata": {},
     "output_type": "execute_result"
    }
   ],
   "source": [
    "#provider spciality\n",
    "df_provider_speciality = pd.read_csv(data_path + 'Provider/ProviderToSpecailty.csv')\n",
    "df_provider_speciality = df_provider_speciality[['PROVIDERCODE','SPECIALTYCODE','SPECIALTYRANKCALCULATED']]\n",
    "df_provider_speciality.columns"
   ]
  },
  {
   "cell_type": "code",
   "execution_count": 9,
   "id": "7f698a10-23f6-442f-b64c-52b9e22984b0",
   "metadata": {},
   "outputs": [
    {
     "data": {
      "text/plain": [
       "Index(['zip_code', 'FACILITYCODE', 'PROVIDERCODE', 'SpecialtyCode',\n",
       "       'SpecialtyDescription'],\n",
       "      dtype='object')"
      ]
     },
     "execution_count": 9,
     "metadata": {},
     "output_type": "execute_result"
    }
   ],
   "source": [
    "## create segments \n",
    "# Merge the dataframes to create the desired dataframe\n",
    "df_merged = df_provider_facility.merge(df_facility, on='FACILITYCODE').merge(df_provider_speciality, on='PROVIDERCODE').merge(df_speciality, left_on='SPECIALTYCODE', right_on='SpecialtyCode')\n",
    "# Select the relevant columns and drop duplicates to get unique combinations\n",
    "df_segments = df_merged[['zip_code', 'FACILITYCODE', 'PROVIDERCODE', 'SpecialtyCode', 'SpecialtyDescription']].drop_duplicates()\n",
    "# Display the unique combinations\n",
    "df_segments.columns"
   ]
  },
  {
   "cell_type": "code",
   "execution_count": 10,
   "id": "25a6a5c6-2e51-4382-9105-1d0b3957cdc7",
   "metadata": {},
   "outputs": [
    {
     "data": {
      "text/plain": [
       "Index(['PERSON_ID', 'age', 'GENDER'], dtype='object')"
      ]
     },
     "execution_count": 10,
     "metadata": {},
     "output_type": "execute_result"
    }
   ],
   "source": [
    "## load demographics ##\n",
    "person_df = pd.read_csv(data_path + 'person_demographics.csv')\n",
    "person_df = person_df[['PERSON_ID','age','GENDER']]\n",
    "person_df['GENDER'] = person_df['GENDER'].apply(lambda x: 'Male' if pd.isnull(x) or x != 'Female' else 'Female')\n",
    "person_df.columns"
   ]
  },
  {
   "cell_type": "code",
   "execution_count": 11,
   "id": "a9b85be4-a975-47c0-b640-fdf3cc1fe6f8",
   "metadata": {},
   "outputs": [
    {
     "data": {
      "text/plain": [
       "Male      7791\n",
       "Female    2209\n",
       "Name: GENDER, dtype: int64"
      ]
     },
     "execution_count": 11,
     "metadata": {},
     "output_type": "execute_result"
    }
   ],
   "source": [
    "person_df.GENDER.value_counts()"
   ]
  },
  {
   "cell_type": "code",
   "execution_count": 12,
   "id": "f7082d52-4ff1-4308-b38e-7f14a871718f",
   "metadata": {},
   "outputs": [],
   "source": [
    "provider_df = pd.read_csv(data_path + 'Provider/provider.csv')\n",
    "#provider_df.columns"
   ]
  },
  {
   "cell_type": "code",
   "execution_count": 13,
   "id": "4d22a3df-0c46-4ccf-9e16-9abb6b21b3c3",
   "metadata": {},
   "outputs": [
    {
     "data": {
      "text/plain": [
       "Index(['PERSON_ID', 'ProviderCode', 'ratings'], dtype='object')"
      ]
     },
     "execution_count": 13,
     "metadata": {},
     "output_type": "execute_result"
    }
   ],
   "source": [
    "#included ratings\n",
    "eligible_persons = list((set(df_ratings_score.PERSON_ID).intersection(set(person_df.PERSON_ID))))\n",
    "df_ratings_fltrd = df_ratings_score[df_ratings_score['PERSON_ID'].isin(eligible_persons)]\n",
    "df_ratings_fltrd.columns"
   ]
  },
  {
   "cell_type": "code",
   "execution_count": 14,
   "id": "7ddc005d-9263-471b-b617-f1a6961d1544",
   "metadata": {},
   "outputs": [],
   "source": [
    "#provider ranking \n",
    "df_provider_rankings = df_ratings_score.groupby(['ProviderCode']).agg({'ratings' : 'mean'}).reset_index()\n",
    "df_provider_rankings['ratings'] = np.round(df_provider_rankings['ratings'],2)\n",
    "df_provider_rankings = df_provider_rankings.rename(columns={'ratings': 'sat_score'})"
   ]
  },
  {
   "cell_type": "code",
   "execution_count": 15,
   "id": "74768cb9-84df-4dee-bd21-bd7debd90f9c",
   "metadata": {},
   "outputs": [
    {
     "data": {
      "text/plain": [
       "Index(['ProviderCode', 'sat_score'], dtype='object')"
      ]
     },
     "execution_count": 15,
     "metadata": {},
     "output_type": "execute_result"
    }
   ],
   "source": [
    "df_provider_rankings.columns"
   ]
  },
  {
   "cell_type": "markdown",
   "id": "96397939-9c3a-490f-8b76-6f13a7a31560",
   "metadata": {},
   "source": [
    "### Feature engineering starts here ###"
   ]
  },
  {
   "cell_type": "code",
   "execution_count": 16,
   "id": "5df6b56c-082a-4976-b7d1-28651766cbaa",
   "metadata": {},
   "outputs": [
    {
     "data": {
      "text/html": [
       "<div>\n",
       "<style scoped>\n",
       "    .dataframe tbody tr th:only-of-type {\n",
       "        vertical-align: middle;\n",
       "    }\n",
       "\n",
       "    .dataframe tbody tr th {\n",
       "        vertical-align: top;\n",
       "    }\n",
       "\n",
       "    .dataframe thead th {\n",
       "        text-align: right;\n",
       "    }\n",
       "</style>\n",
       "<table border=\"1\" class=\"dataframe\">\n",
       "  <thead>\n",
       "    <tr style=\"text-align: right;\">\n",
       "      <th></th>\n",
       "      <th>PERSON_ID</th>\n",
       "      <th>age</th>\n",
       "      <th>GENDER</th>\n",
       "    </tr>\n",
       "  </thead>\n",
       "  <tbody>\n",
       "    <tr>\n",
       "      <th>1190</th>\n",
       "      <td>00123db9a36e9f9277d6ce32c3fdd1e49809845399741b...</td>\n",
       "      <td>39.0</td>\n",
       "      <td>Female</td>\n",
       "    </tr>\n",
       "  </tbody>\n",
       "</table>\n",
       "</div>"
      ],
      "text/plain": [
       "                                              PERSON_ID   age  GENDER\n",
       "1190  00123db9a36e9f9277d6ce32c3fdd1e49809845399741b...  39.0  Female"
      ]
     },
     "execution_count": 16,
     "metadata": {},
     "output_type": "execute_result"
    }
   ],
   "source": [
    "## this is person demographics\n",
    "person_df= person_df[person_df['PERSON_ID'].isin(eligible_persons)]\n",
    "person_df = person_df.sort_values(by=['PERSON_ID', 'GENDER', 'age'], ascending=[True, True, False])\n",
    "person_df = person_df.drop_duplicates(subset='PERSON_ID', keep='first')\n",
    "person_df.head(1)"
   ]
  },
  {
   "cell_type": "code",
   "execution_count": 17,
   "id": "b5df96db-4ac0-48bb-89bd-59fae3c18d3a",
   "metadata": {},
   "outputs": [
    {
     "data": {
      "text/html": [
       "<div>\n",
       "<style scoped>\n",
       "    .dataframe tbody tr th:only-of-type {\n",
       "        vertical-align: middle;\n",
       "    }\n",
       "\n",
       "    .dataframe tbody tr th {\n",
       "        vertical-align: top;\n",
       "    }\n",
       "\n",
       "    .dataframe thead th {\n",
       "        text-align: right;\n",
       "    }\n",
       "</style>\n",
       "<table border=\"1\" class=\"dataframe\">\n",
       "  <thead>\n",
       "    <tr style=\"text-align: right;\">\n",
       "      <th></th>\n",
       "      <th>PERSON_ID</th>\n",
       "      <th>ProviderCode</th>\n",
       "      <th>ratings</th>\n",
       "    </tr>\n",
       "  </thead>\n",
       "  <tbody>\n",
       "    <tr>\n",
       "      <th>0</th>\n",
       "      <td>00034bd1b4be964221e56bfc363834d832d93316030e98...</td>\n",
       "      <td>Y9SFHDZ</td>\n",
       "      <td>4.78</td>\n",
       "    </tr>\n",
       "  </tbody>\n",
       "</table>\n",
       "</div>"
      ],
      "text/plain": [
       "                                           PERSON_ID ProviderCode  ratings\n",
       "0  00034bd1b4be964221e56bfc363834d832d93316030e98...      Y9SFHDZ     4.78"
      ]
     },
     "execution_count": 17,
     "metadata": {},
     "output_type": "execute_result"
    }
   ],
   "source": [
    "#this is ratings_df for person to provider \n",
    "df_ratings_score.head(1)"
   ]
  },
  {
   "cell_type": "code",
   "execution_count": 18,
   "id": "d8f77b12-06d6-4b07-965b-d580c1022d2b",
   "metadata": {},
   "outputs": [
    {
     "data": {
      "text/html": [
       "<div>\n",
       "<style scoped>\n",
       "    .dataframe tbody tr th:only-of-type {\n",
       "        vertical-align: middle;\n",
       "    }\n",
       "\n",
       "    .dataframe tbody tr th {\n",
       "        vertical-align: top;\n",
       "    }\n",
       "\n",
       "    .dataframe thead th {\n",
       "        text-align: right;\n",
       "    }\n",
       "</style>\n",
       "<table border=\"1\" class=\"dataframe\">\n",
       "  <thead>\n",
       "    <tr style=\"text-align: right;\">\n",
       "      <th></th>\n",
       "      <th>FACILITYCODE</th>\n",
       "      <th>FACILITYNAME</th>\n",
       "      <th>FACILITYTYPECODE</th>\n",
       "      <th>zip_code</th>\n",
       "    </tr>\n",
       "  </thead>\n",
       "  <tbody>\n",
       "    <tr>\n",
       "      <th>0</th>\n",
       "      <td>442F0F</td>\n",
       "      <td>Hackensack University Medical Center</td>\n",
       "      <td>STAC</td>\n",
       "      <td>07601</td>\n",
       "    </tr>\n",
       "  </tbody>\n",
       "</table>\n",
       "</div>"
      ],
      "text/plain": [
       "  FACILITYCODE                          FACILITYNAME FACILITYTYPECODE zip_code\n",
       "0       442F0F  Hackensack University Medical Center             STAC    07601"
      ]
     },
     "execution_count": 18,
     "metadata": {},
     "output_type": "execute_result"
    }
   ],
   "source": [
    "#this is facility \n",
    "df_facility.head(1)"
   ]
  },
  {
   "cell_type": "code",
   "execution_count": 19,
   "id": "e9182448-8c02-44e1-a97e-8ead58683d36",
   "metadata": {},
   "outputs": [
    {
     "data": {
      "text/html": [
       "<div>\n",
       "<style scoped>\n",
       "    .dataframe tbody tr th:only-of-type {\n",
       "        vertical-align: middle;\n",
       "    }\n",
       "\n",
       "    .dataframe tbody tr th {\n",
       "        vertical-align: top;\n",
       "    }\n",
       "\n",
       "    .dataframe thead th {\n",
       "        text-align: right;\n",
       "    }\n",
       "</style>\n",
       "<table border=\"1\" class=\"dataframe\">\n",
       "  <thead>\n",
       "    <tr style=\"text-align: right;\">\n",
       "      <th></th>\n",
       "      <th>PROVIDERCODE</th>\n",
       "      <th>FACILITYCODE</th>\n",
       "    </tr>\n",
       "  </thead>\n",
       "  <tbody>\n",
       "    <tr>\n",
       "      <th>0</th>\n",
       "      <td>YVMCR</td>\n",
       "      <td>100360</td>\n",
       "    </tr>\n",
       "  </tbody>\n",
       "</table>\n",
       "</div>"
      ],
      "text/plain": [
       "  PROVIDERCODE FACILITYCODE\n",
       "0        YVMCR       100360"
      ]
     },
     "execution_count": 19,
     "metadata": {},
     "output_type": "execute_result"
    }
   ],
   "source": [
    "#this is provider to facility relation\n",
    "df_provider_facility.head(1)"
   ]
  },
  {
   "cell_type": "code",
   "execution_count": 20,
   "id": "7213ea6b-5357-4eef-b399-64330e7ba964",
   "metadata": {},
   "outputs": [
    {
     "data": {
      "text/html": [
       "<div>\n",
       "<style scoped>\n",
       "    .dataframe tbody tr th:only-of-type {\n",
       "        vertical-align: middle;\n",
       "    }\n",
       "\n",
       "    .dataframe tbody tr th {\n",
       "        vertical-align: top;\n",
       "    }\n",
       "\n",
       "    .dataframe thead th {\n",
       "        text-align: right;\n",
       "    }\n",
       "</style>\n",
       "<table border=\"1\" class=\"dataframe\">\n",
       "  <thead>\n",
       "    <tr style=\"text-align: right;\">\n",
       "      <th></th>\n",
       "      <th>PROVIDERCODE</th>\n",
       "      <th>SPECIALTYCODE</th>\n",
       "      <th>SPECIALTYRANKCALCULATED</th>\n",
       "    </tr>\n",
       "  </thead>\n",
       "  <tbody>\n",
       "    <tr>\n",
       "      <th>0</th>\n",
       "      <td>YRSQT</td>\n",
       "      <td>PS127</td>\n",
       "      <td>1</td>\n",
       "    </tr>\n",
       "  </tbody>\n",
       "</table>\n",
       "</div>"
      ],
      "text/plain": [
       "  PROVIDERCODE SPECIALTYCODE  SPECIALTYRANKCALCULATED\n",
       "0        YRSQT         PS127                        1"
      ]
     },
     "execution_count": 20,
     "metadata": {},
     "output_type": "execute_result"
    }
   ],
   "source": [
    "# this is provider to speciality\n",
    "df_provider_speciality.head(1)"
   ]
  },
  {
   "cell_type": "code",
   "execution_count": 21,
   "id": "c82a3975-aba4-4a58-af3c-019b062035dc",
   "metadata": {},
   "outputs": [
    {
     "data": {
      "text/html": [
       "<div>\n",
       "<style scoped>\n",
       "    .dataframe tbody tr th:only-of-type {\n",
       "        vertical-align: middle;\n",
       "    }\n",
       "\n",
       "    .dataframe tbody tr th {\n",
       "        vertical-align: top;\n",
       "    }\n",
       "\n",
       "    .dataframe thead th {\n",
       "        text-align: right;\n",
       "    }\n",
       "</style>\n",
       "<table border=\"1\" class=\"dataframe\">\n",
       "  <thead>\n",
       "    <tr style=\"text-align: right;\">\n",
       "      <th></th>\n",
       "      <th>ProviderCode</th>\n",
       "      <th>sat_score</th>\n",
       "    </tr>\n",
       "  </thead>\n",
       "  <tbody>\n",
       "    <tr>\n",
       "      <th>0</th>\n",
       "      <td>0RZSMOK314</td>\n",
       "      <td>4.58</td>\n",
       "    </tr>\n",
       "  </tbody>\n",
       "</table>\n",
       "</div>"
      ],
      "text/plain": [
       "  ProviderCode  sat_score\n",
       "0   0RZSMOK314       4.58"
      ]
     },
     "execution_count": 21,
     "metadata": {},
     "output_type": "execute_result"
    }
   ],
   "source": [
    "#this is provider rankings \n",
    "df_provider_rankings.head(1)"
   ]
  },
  {
   "cell_type": "code",
   "execution_count": 22,
   "id": "08596a98-6053-4e9d-b033-f744355be6b7",
   "metadata": {},
   "outputs": [
    {
     "data": {
      "text/html": [
       "<div>\n",
       "<style scoped>\n",
       "    .dataframe tbody tr th:only-of-type {\n",
       "        vertical-align: middle;\n",
       "    }\n",
       "\n",
       "    .dataframe tbody tr th {\n",
       "        vertical-align: top;\n",
       "    }\n",
       "\n",
       "    .dataframe thead th {\n",
       "        text-align: right;\n",
       "    }\n",
       "</style>\n",
       "<table border=\"1\" class=\"dataframe\">\n",
       "  <thead>\n",
       "    <tr style=\"text-align: right;\">\n",
       "      <th></th>\n",
       "      <th>zip_code</th>\n",
       "      <th>FACILITYCODE</th>\n",
       "      <th>ProviderCode</th>\n",
       "      <th>SpecialtyCode</th>\n",
       "      <th>SpecialtyDescription</th>\n",
       "    </tr>\n",
       "  </thead>\n",
       "  <tbody>\n",
       "    <tr>\n",
       "      <th>0</th>\n",
       "      <td>33328</td>\n",
       "      <td>100360</td>\n",
       "      <td>YVMCR</td>\n",
       "      <td>PS628</td>\n",
       "      <td>Orthopedic Spine Surgery</td>\n",
       "    </tr>\n",
       "  </tbody>\n",
       "</table>\n",
       "</div>"
      ],
      "text/plain": [
       "  zip_code FACILITYCODE ProviderCode SpecialtyCode      SpecialtyDescription\n",
       "0    33328       100360        YVMCR         PS628  Orthopedic Spine Surgery"
      ]
     },
     "execution_count": 22,
     "metadata": {},
     "output_type": "execute_result"
    }
   ],
   "source": [
    "## this is segments ##\n",
    "df_segments = df_segments.rename(columns={'PROVIDERCODE': 'ProviderCode'})\n",
    "df_segments.head(1)"
   ]
  },
  {
   "cell_type": "code",
   "execution_count": 23,
   "id": "227f49e4-bf50-4616-8415-2caa1ec8fd30",
   "metadata": {},
   "outputs": [],
   "source": [
    "ratings_df  = df_ratings_score\n",
    "provider_rankings_df  = df_provider_rankings\n",
    "segments_df  = df_segments\n",
    "facility_df  = df_facility\n",
    "provider_facility_df = df_provider_facility\n",
    "provider_specialty_df = df_provider_speciality"
   ]
  },
  {
   "cell_type": "markdown",
   "id": "b7d2e145-96fa-405e-86f0-eda389a5f20e",
   "metadata": {},
   "source": [
    "### Modelling for Features ###"
   ]
  },
  {
   "cell_type": "code",
   "execution_count": 24,
   "id": "5acc5485-6891-4a4c-b7aa-7087c14a14c4",
   "metadata": {},
   "outputs": [],
   "source": [
    "interaction_df = pd.merge(ratings_df, person_df, on='PERSON_ID')\n",
    "interaction_df = pd.merge(interaction_df, provider_rankings_df, on='ProviderCode')\n",
    "interaction_df = pd.merge(interaction_df, segments_df, on='ProviderCode')"
   ]
  },
  {
   "cell_type": "code",
   "execution_count": 25,
   "id": "eb831dbc-11bb-4cbe-b9a4-9d221b5fb785",
   "metadata": {},
   "outputs": [],
   "source": [
    "# Normalize numerical features\n",
    "scaler = MinMaxScaler()\n",
    "interaction_df[['age', 'sat_score','ratings']] = scaler.fit_transform(interaction_df[['age', 'sat_score','ratings']])\n",
    "\n",
    "# One-hot encode gender\n",
    "interaction_df = pd.concat([interaction_df, pd.get_dummies(interaction_df['GENDER'], prefix='GENDER')], axis=1)\n",
    "interaction_df = interaction_df.drop(columns=['GENDER'])\n",
    "\n",
    "# Convert specialties to numeric values for embedding\n",
    "interaction_df['SpecialtyDescription'] = interaction_df['SpecialtyDescription'].astype('category').cat.codes"
   ]
  },
  {
   "cell_type": "code",
   "execution_count": 26,
   "id": "920e5862-33ab-48b6-8e58-38f1ade4b333",
   "metadata": {},
   "outputs": [],
   "source": [
    "interaction_df= interaction_df.drop_duplicates()"
   ]
  },
  {
   "cell_type": "code",
   "execution_count": 27,
   "id": "b4b63cf5-1a59-4a6b-bd7e-dd3210663724",
   "metadata": {},
   "outputs": [
    {
     "data": {
      "text/html": [
       "<div>\n",
       "<style scoped>\n",
       "    .dataframe tbody tr th:only-of-type {\n",
       "        vertical-align: middle;\n",
       "    }\n",
       "\n",
       "    .dataframe tbody tr th {\n",
       "        vertical-align: top;\n",
       "    }\n",
       "\n",
       "    .dataframe thead th {\n",
       "        text-align: right;\n",
       "    }\n",
       "</style>\n",
       "<table border=\"1\" class=\"dataframe\">\n",
       "  <thead>\n",
       "    <tr style=\"text-align: right;\">\n",
       "      <th></th>\n",
       "      <th>PERSON_ID</th>\n",
       "      <th>ProviderCode</th>\n",
       "      <th>ratings</th>\n",
       "      <th>age</th>\n",
       "      <th>sat_score</th>\n",
       "      <th>zip_code</th>\n",
       "      <th>FACILITYCODE</th>\n",
       "      <th>SpecialtyCode</th>\n",
       "      <th>SpecialtyDescription</th>\n",
       "      <th>GENDER_Female</th>\n",
       "      <th>GENDER_Male</th>\n",
       "    </tr>\n",
       "  </thead>\n",
       "  <tbody>\n",
       "    <tr>\n",
       "      <th>0</th>\n",
       "      <td>00123db9a36e9f9277d6ce32c3fdd1e49809845399741b...</td>\n",
       "      <td>XF6BG</td>\n",
       "      <td>0.705882</td>\n",
       "      <td>0.324074</td>\n",
       "      <td>0.370370</td>\n",
       "      <td>34950</td>\n",
       "      <td>81DB7D</td>\n",
       "      <td>PS305</td>\n",
       "      <td>23</td>\n",
       "      <td>1</td>\n",
       "      <td>0</td>\n",
       "    </tr>\n",
       "    <tr>\n",
       "      <th>1</th>\n",
       "      <td>32e8750a2e31a34c71d700df32a773adcab8db3109117b...</td>\n",
       "      <td>XF6BG</td>\n",
       "      <td>0.964706</td>\n",
       "      <td>0.324074</td>\n",
       "      <td>0.370370</td>\n",
       "      <td>34950</td>\n",
       "      <td>81DB7D</td>\n",
       "      <td>PS305</td>\n",
       "      <td>23</td>\n",
       "      <td>0</td>\n",
       "      <td>1</td>\n",
       "    </tr>\n",
       "    <tr>\n",
       "      <th>2</th>\n",
       "      <td>4a2bfb67462d6f2d7b70752411114edc1325c8d9efb885...</td>\n",
       "      <td>XF6BG</td>\n",
       "      <td>0.929412</td>\n",
       "      <td>0.324074</td>\n",
       "      <td>0.370370</td>\n",
       "      <td>34950</td>\n",
       "      <td>81DB7D</td>\n",
       "      <td>PS305</td>\n",
       "      <td>23</td>\n",
       "      <td>1</td>\n",
       "      <td>0</td>\n",
       "    </tr>\n",
       "    <tr>\n",
       "      <th>3</th>\n",
       "      <td>c5a78302c3051b68f31cf426eff4f1b90b324d44ecdbb2...</td>\n",
       "      <td>XF6BG</td>\n",
       "      <td>0.536471</td>\n",
       "      <td>0.324074</td>\n",
       "      <td>0.370370</td>\n",
       "      <td>34950</td>\n",
       "      <td>81DB7D</td>\n",
       "      <td>PS305</td>\n",
       "      <td>23</td>\n",
       "      <td>0</td>\n",
       "      <td>1</td>\n",
       "    </tr>\n",
       "    <tr>\n",
       "      <th>4</th>\n",
       "      <td>df0ce9bc392f26eb5fc52244d195b5f6ab9ce6d14ddaf5...</td>\n",
       "      <td>XF6BG</td>\n",
       "      <td>0.327059</td>\n",
       "      <td>0.324074</td>\n",
       "      <td>0.370370</td>\n",
       "      <td>34950</td>\n",
       "      <td>81DB7D</td>\n",
       "      <td>PS305</td>\n",
       "      <td>23</td>\n",
       "      <td>1</td>\n",
       "      <td>0</td>\n",
       "    </tr>\n",
       "    <tr>\n",
       "      <th>...</th>\n",
       "      <td>...</td>\n",
       "      <td>...</td>\n",
       "      <td>...</td>\n",
       "      <td>...</td>\n",
       "      <td>...</td>\n",
       "      <td>...</td>\n",
       "      <td>...</td>\n",
       "      <td>...</td>\n",
       "      <td>...</td>\n",
       "      <td>...</td>\n",
       "      <td>...</td>\n",
       "    </tr>\n",
       "    <tr>\n",
       "      <th>8518</th>\n",
       "      <td>fed15a2b14775e348e8f0c8cc28fe7894dd1663905884c...</td>\n",
       "      <td>3LSH3</td>\n",
       "      <td>0.891765</td>\n",
       "      <td>0.324074</td>\n",
       "      <td>0.753086</td>\n",
       "      <td>13001</td>\n",
       "      <td>420826</td>\n",
       "      <td>PS779</td>\n",
       "      <td>68</td>\n",
       "      <td>0</td>\n",
       "      <td>1</td>\n",
       "    </tr>\n",
       "    <tr>\n",
       "      <th>8519</th>\n",
       "      <td>fed15a2b14775e348e8f0c8cc28fe7894dd1663905884c...</td>\n",
       "      <td>3LSH3</td>\n",
       "      <td>0.891765</td>\n",
       "      <td>0.324074</td>\n",
       "      <td>0.753086</td>\n",
       "      <td>33462</td>\n",
       "      <td>514CDA</td>\n",
       "      <td>PS780</td>\n",
       "      <td>69</td>\n",
       "      <td>0</td>\n",
       "      <td>1</td>\n",
       "    </tr>\n",
       "    <tr>\n",
       "      <th>8520</th>\n",
       "      <td>fed15a2b14775e348e8f0c8cc28fe7894dd1663905884c...</td>\n",
       "      <td>3LSH3</td>\n",
       "      <td>0.891765</td>\n",
       "      <td>0.324074</td>\n",
       "      <td>0.753086</td>\n",
       "      <td>13001</td>\n",
       "      <td>420826</td>\n",
       "      <td>PS780</td>\n",
       "      <td>69</td>\n",
       "      <td>0</td>\n",
       "      <td>1</td>\n",
       "    </tr>\n",
       "    <tr>\n",
       "      <th>8521</th>\n",
       "      <td>f6b0c65ce633cc62b20826bc4a89a70e3a819b2dea5810...</td>\n",
       "      <td>YRJXK</td>\n",
       "      <td>0.948235</td>\n",
       "      <td>0.620370</td>\n",
       "      <td>0.954733</td>\n",
       "      <td>11750</td>\n",
       "      <td>9FECE7</td>\n",
       "      <td>PS412</td>\n",
       "      <td>37</td>\n",
       "      <td>0</td>\n",
       "      <td>1</td>\n",
       "    </tr>\n",
       "    <tr>\n",
       "      <th>8522</th>\n",
       "      <td>f6b0c65ce633cc62b20826bc4a89a70e3a819b2dea5810...</td>\n",
       "      <td>YRJXK</td>\n",
       "      <td>0.948235</td>\n",
       "      <td>0.620370</td>\n",
       "      <td>0.954733</td>\n",
       "      <td>11750</td>\n",
       "      <td>9FECE7</td>\n",
       "      <td>PS823</td>\n",
       "      <td>73</td>\n",
       "      <td>0</td>\n",
       "      <td>1</td>\n",
       "    </tr>\n",
       "  </tbody>\n",
       "</table>\n",
       "<p>8523 rows × 11 columns</p>\n",
       "</div>"
      ],
      "text/plain": [
       "                                              PERSON_ID ProviderCode  \\\n",
       "0     00123db9a36e9f9277d6ce32c3fdd1e49809845399741b...        XF6BG   \n",
       "1     32e8750a2e31a34c71d700df32a773adcab8db3109117b...        XF6BG   \n",
       "2     4a2bfb67462d6f2d7b70752411114edc1325c8d9efb885...        XF6BG   \n",
       "3     c5a78302c3051b68f31cf426eff4f1b90b324d44ecdbb2...        XF6BG   \n",
       "4     df0ce9bc392f26eb5fc52244d195b5f6ab9ce6d14ddaf5...        XF6BG   \n",
       "...                                                 ...          ...   \n",
       "8518  fed15a2b14775e348e8f0c8cc28fe7894dd1663905884c...        3LSH3   \n",
       "8519  fed15a2b14775e348e8f0c8cc28fe7894dd1663905884c...        3LSH3   \n",
       "8520  fed15a2b14775e348e8f0c8cc28fe7894dd1663905884c...        3LSH3   \n",
       "8521  f6b0c65ce633cc62b20826bc4a89a70e3a819b2dea5810...        YRJXK   \n",
       "8522  f6b0c65ce633cc62b20826bc4a89a70e3a819b2dea5810...        YRJXK   \n",
       "\n",
       "       ratings       age  sat_score zip_code FACILITYCODE SpecialtyCode  \\\n",
       "0     0.705882  0.324074   0.370370    34950       81DB7D         PS305   \n",
       "1     0.964706  0.324074   0.370370    34950       81DB7D         PS305   \n",
       "2     0.929412  0.324074   0.370370    34950       81DB7D         PS305   \n",
       "3     0.536471  0.324074   0.370370    34950       81DB7D         PS305   \n",
       "4     0.327059  0.324074   0.370370    34950       81DB7D         PS305   \n",
       "...        ...       ...        ...      ...          ...           ...   \n",
       "8518  0.891765  0.324074   0.753086    13001       420826         PS779   \n",
       "8519  0.891765  0.324074   0.753086    33462       514CDA         PS780   \n",
       "8520  0.891765  0.324074   0.753086    13001       420826         PS780   \n",
       "8521  0.948235  0.620370   0.954733    11750       9FECE7         PS412   \n",
       "8522  0.948235  0.620370   0.954733    11750       9FECE7         PS823   \n",
       "\n",
       "      SpecialtyDescription  GENDER_Female  GENDER_Male  \n",
       "0                       23              1            0  \n",
       "1                       23              0            1  \n",
       "2                       23              1            0  \n",
       "3                       23              0            1  \n",
       "4                       23              1            0  \n",
       "...                    ...            ...          ...  \n",
       "8518                    68              0            1  \n",
       "8519                    69              0            1  \n",
       "8520                    69              0            1  \n",
       "8521                    37              0            1  \n",
       "8522                    73              0            1  \n",
       "\n",
       "[8523 rows x 11 columns]"
      ]
     },
     "execution_count": 27,
     "metadata": {},
     "output_type": "execute_result"
    }
   ],
   "source": [
    "interaction_df"
   ]
  },
  {
   "cell_type": "code",
   "execution_count": 28,
   "id": "2e3f1824-8402-4e85-9c83-5527e5a050a7",
   "metadata": {},
   "outputs": [],
   "source": [
    "X = interaction_df[['age', 'sat_score', 'GENDER_Female', 'GENDER_Male', 'SpecialtyDescription']].values\n",
    "y = interaction_df['ratings'].values\n"
   ]
  },
  {
   "cell_type": "code",
   "execution_count": 29,
   "id": "02d28291-c3c1-4c70-b5e6-7b2426f3c207",
   "metadata": {},
   "outputs": [],
   "source": [
    "unique_users = interaction_df['PERSON_ID'].unique()\n",
    "train_users, test_users = train_test_split(unique_users, test_size=0.2, random_state=42)"
   ]
  },
  {
   "cell_type": "code",
   "execution_count": 30,
   "id": "d0c97cb3-d0da-442c-a16a-0d37a025681e",
   "metadata": {},
   "outputs": [],
   "source": [
    "train_mask = interaction_df['PERSON_ID'].isin(train_users)\n",
    "test_mask = interaction_df['PERSON_ID'].isin(test_users)"
   ]
  },
  {
   "cell_type": "code",
   "execution_count": 31,
   "id": "74147da4-9e46-465d-9971-d512195bb3e2",
   "metadata": {},
   "outputs": [],
   "source": [
    "X_train = X[train_mask];y_train = y[train_mask]\n",
    "X_test = X[test_mask];y_test = y[test_mask]"
   ]
  },
  {
   "cell_type": "code",
   "execution_count": null,
   "id": "26545548-70ac-4008-bfd9-c823c1b501ce",
   "metadata": {},
   "outputs": [],
   "source": [
    "def create_deep_and_cross_model():\n",
    "    inputs = create_model_inputs()\n",
    "    x0 = encode_inputs(inputs, use_embedding=True)\n",
    "\n",
    "    cross = x0\n",
    "    for _ in hidden_units:\n",
    "        units = cross.shape[-1]\n",
    "        x = layers.Dense(units)(cross)\n",
    "        cross = x0 * x + cross\n",
    "    cross = layers.BatchNormalization()(cross)\n",
    "\n",
    "    deep = x0\n",
    "    for units in hidden_units:\n",
    "        deep = layers.Dense(units)(deep)\n",
    "        deep = layers.BatchNormalization()(deep)\n",
    "        deep = layers.ReLU()(deep)\n",
    "        deep = layers.Dropout(dropout_rate)(deep)\n",
    "\n",
    "    merged = layers.concatenate([cross, deep])\n",
    "    outputs = layers.Dense(units=NUM_CLASSES, activation=\"softmax\")(merged)\n",
    "    model = keras.Model(inputs=inputs, outputs=outputs)\n",
    "    return model"
   ]
  },
  {
   "cell_type": "code",
   "execution_count": null,
   "id": "a14296c7-ae11-4671-919a-fb6ecfa15091",
   "metadata": {},
   "outputs": [],
   "source": [
    "def create_dcn_model(numeric_features_dim, embedding_input_dim, embedding_output_dim):\n",
    "    # Numeric input\n",
    "    numeric_input = Input(shape=(numeric_features_dim,), name='numeric_input')\n",
    "\n",
    "    # Embedding input\n",
    "    embedding_input = Input(shape=(1,), name='embedding_input')\n",
    "    embedding_layer = Embedding(input_dim=embedding_input_dim, output_dim=embedding_output_dim, input_length=1)(embedding_input)\n",
    "    embedding_layer = Flatten()(embedding_layer)\n",
    "\n",
    "    # Concatenate numeric and embedding layers\n",
    "    concatenated_input = Concatenate()([numeric_input, embedding_layer])\n",
    "\n",
    "    # Cross network\n",
    "    x = concatenated_input\n",
    "    for _ in range(2):  # Number of cross layers\n",
    "        x = Dense(concatenated_input.shape[1], activation='relu')(x) + concatenated_input\n",
    "\n",
    "    # Deep network\n",
    "    x = Dense(128, activation='relu')(x)\n",
    "    x = Dropout(0.3)(x)\n",
    "    x = Dense(64, activation='relu')(x)\n",
    "\n",
    "    # Output layer\n",
    "    output = Dense(1, activation='linear')(x)\n",
    "\n",
    "    model = Model(inputs=[numeric_input, embedding_input], outputs=output)\n",
    "    model.compile(optimizer='adam', loss='mse', metrics=['mae'])\n",
    "\n",
    "    return model"
   ]
  }
 ],
 "metadata": {
  "kernelspec": {
   "display_name": "Python 3 (ipykernel)",
   "language": "python",
   "name": "python3"
  },
  "language_info": {
   "codemirror_mode": {
    "name": "ipython",
    "version": 3
   },
   "file_extension": ".py",
   "mimetype": "text/x-python",
   "name": "python",
   "nbconvert_exporter": "python",
   "pygments_lexer": "ipython3",
   "version": "3.9.13"
  }
 },
 "nbformat": 4,
 "nbformat_minor": 5
}
