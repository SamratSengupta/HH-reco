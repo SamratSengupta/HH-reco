{
 "cells": [
  {
   "cell_type": "code",
   "execution_count": 1,
   "id": "99786562",
   "metadata": {},
   "outputs": [],
   "source": [
    "import numpy as np\n",
    "import pandas as pd"
   ]
  },
  {
   "cell_type": "code",
   "execution_count": 2,
   "id": "471aec05",
   "metadata": {},
   "outputs": [],
   "source": [
    "df = pd.read_csv('data/sentiments_rule.csv')"
   ]
  },
  {
   "cell_type": "code",
   "execution_count": 3,
   "id": "0f5f9606",
   "metadata": {},
   "outputs": [],
   "source": [
    "colLst = df.columns.tolist()\n",
    "colmap = {col : col.strip() for col in colLst}"
   ]
  },
  {
   "cell_type": "code",
   "execution_count": 4,
   "id": "c2d3fb0b",
   "metadata": {},
   "outputs": [],
   "source": [
    "df.rename(columns = colmap, inplace = True)"
   ]
  },
  {
   "cell_type": "code",
   "execution_count": 6,
   "id": "f2b6f148",
   "metadata": {},
   "outputs": [],
   "source": [
    "df = df.drop(['Unnamed: 0'],axis=1)\n",
    "df = df.dropna()"
   ]
  },
  {
   "cell_type": "code",
   "execution_count": 13,
   "id": "c8237ef0",
   "metadata": {},
   "outputs": [
    {
     "data": {
      "text/plain": [
       "Index(['data', 'swn', 'vader neu', 'vader pos', 'vader neg', 'vader com',\n",
       "       'bert score', 'bert label', 'roberta_val', 'rating'],\n",
       "      dtype='object')"
      ]
     },
     "execution_count": 13,
     "metadata": {},
     "output_type": "execute_result"
    }
   ],
   "source": [
    "df.columns"
   ]
  },
  {
   "cell_type": "code",
   "execution_count": 32,
   "id": "c4aa94fe",
   "metadata": {},
   "outputs": [],
   "source": [
    "def Label_Sentiment(row):\n",
    "       \n",
    "        rating = 0\n",
    "        \n",
    "        vader_pos = row['vader pos']\n",
    "        vader_neg = row['vader neg']\n",
    "        vader_neu = row['vader neu']\n",
    "        vader_com = row['vader com']\n",
    "        bert_score = row['bert score']\n",
    "        bert_label = row['bert label']    \n",
    "        swn_score = row['swn']\n",
    "        roberta_value = eval(row['roberta_val'])\n",
    "        \n",
    "        try:\n",
    "            \n",
    "            roberta_prediction = roberta_value[0]\n",
    "            roberta_value = [list(i) for i in roberta_value ]        \n",
    "            roberta_value = [i for i in roberta_value if i[1]==\"Neutral\"][0][0]\n",
    "        \n",
    "            if bert_label == 'POSITIVE' and roberta_value < 0.60:\n",
    "                rating = 3\n",
    "            elif bert_label==\"POSITIVE\" and roberta_value >= 0.60:\n",
    "                rating = 2\n",
    "            else:\n",
    "                roberta_prediction =list(roberta_prediction)\n",
    "                if roberta_prediction[1]==\"Negative\":\n",
    "                    if bert_label == 'NEGATIVE' and bert_score >= 0.99 and vader_neg >= 0.3 and swn_score < -0.625:\n",
    "                        rating = 1\n",
    "                    else:\n",
    "                        rating = 2            \n",
    "                elif roberta_prediction[1]==\"Neutral\":\n",
    "                    rating=2\n",
    "                else:\n",
    "                    rating=3\n",
    "        except :            \n",
    "            rating = 0\n",
    "\n",
    "        return rating "
   ]
  },
  {
   "cell_type": "code",
   "execution_count": 33,
   "id": "247bb66c",
   "metadata": {},
   "outputs": [],
   "source": [
    "df['rating'] = df.apply(lambda x : Label_Sentiment(x),axis=1)"
   ]
  },
  {
   "cell_type": "code",
   "execution_count": 35,
   "id": "77bce06e",
   "metadata": {},
   "outputs": [],
   "source": [
    "df.to_csv('data/sentiments_rule.csv')"
   ]
  },
  {
   "cell_type": "code",
   "execution_count": null,
   "id": "73e4b1de",
   "metadata": {},
   "outputs": [],
   "source": []
  }
 ],
 "metadata": {
  "kernelspec": {
   "display_name": "Python 3 (ipykernel)",
   "language": "python",
   "name": "python3"
  },
  "language_info": {
   "codemirror_mode": {
    "name": "ipython",
    "version": 3
   },
   "file_extension": ".py",
   "mimetype": "text/x-python",
   "name": "python",
   "nbconvert_exporter": "python",
   "pygments_lexer": "ipython3",
   "version": "3.9.13"
  }
 },
 "nbformat": 4,
 "nbformat_minor": 5
}
