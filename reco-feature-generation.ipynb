{
 "cells": [
  {
   "cell_type": "code",
   "execution_count": 1,
   "id": "3f7cc2f4-abe7-4e24-a9d7-3e7892c040c0",
   "metadata": {},
   "outputs": [],
   "source": [
    "import pandas as pd\n",
    "import numpy as np\n",
    "import matplotlib.pyplot as plt\n",
    "import seaborn as sns\n",
    "import json\n",
    "import re\n",
    "pd.set_option('display.max_columns', None)\n",
    "import tensorflow as tf\n",
    "import xml.etree.ElementTree as ET"
   ]
  },
  {
   "cell_type": "code",
   "execution_count": 2,
   "id": "bce8326a-b9f7-4a01-b1c6-cee4b81b3038",
   "metadata": {},
   "outputs": [],
   "source": [
    "from sklearn.preprocessing import StandardScaler, OneHotEncoder,MinMaxScaler\n",
    "from sklearn.model_selection import train_test_split\n",
    "from sklearn.metrics import mean_absolute_error, r2_score,ndcg_score,mean_squared_error"
   ]
  },
  {
   "cell_type": "code",
   "execution_count": 3,
   "id": "78bff02c-3e3e-4ea8-b40e-a1684fb0674c",
   "metadata": {},
   "outputs": [],
   "source": [
    "import tensorflow as tf\n",
    "from tensorflow.keras.layers import Input, Dense, Concatenate, Flatten, Dropout, Embedding,BatchNormalization,Multiply\n",
    "from tensorflow.keras.models import Model\n",
    "from tensorflow.keras.callbacks import EarlyStopping, ModelCheckpoint, TensorBoard, ReduceLROnPlateau\n",
    "from tensorflow.keras.optimizers import Adam"
   ]
  },
  {
   "cell_type": "code",
   "execution_count": 4,
   "id": "78067a03-a914-4149-b395-b437b90ae9c5",
   "metadata": {},
   "outputs": [],
   "source": [
    "data_path = 'processed_data/'"
   ]
  },
  {
   "cell_type": "code",
   "execution_count": 5,
   "id": "c7da5383-ea2d-4876-a5dc-dd02ad599087",
   "metadata": {},
   "outputs": [
    {
     "data": {
      "text/plain": [
       "Index(['PERSON_ID', 'ProviderCode', 'SurveyAnswerScore', 'RecommendStar',\n",
       "       'ratings'],\n",
       "      dtype='object')"
      ]
     },
     "execution_count": 5,
     "metadata": {},
     "output_type": "execute_result"
    }
   ],
   "source": [
    "## ratings ##\n",
    "df_ratings_score = pd.read_csv(data_path + 'Ratings_Reviews.csv')\n",
    "df_ratings_score = df_ratings_score[['PERSON_ID','SurveyAnswerScore', 'RecommendStar', 'ProviderCode']]\n",
    "df_ratings_score=df_ratings_score.groupby(['PERSON_ID','ProviderCode']).agg({'SurveyAnswerScore' : 'mean','RecommendStar':'mean'}).reset_index()\n",
    "df_ratings_score['ratings'] = df_ratings_score['SurveyAnswerScore'] * 0.5 + df_ratings_score['RecommendStar'] *0.5\n",
    "df_ratings_score['ratings']=df_ratings_score['ratings'].apply(lambda x : np.round(x,2))\n",
    "#df_ratings_score = df_ratings_score.drop(['RecommendStar','SurveyAnswerScore'],axis=1)\n",
    "df_ratings_score.columns"
   ]
  },
  {
   "cell_type": "code",
   "execution_count": 6,
   "id": "a1443cd1-e759-43d8-b127-4e02e3914fb0",
   "metadata": {},
   "outputs": [
    {
     "data": {
      "text/plain": [
       "Index(['FACILITYCODE', 'FACILITYNAME', 'FACILITYTYPECODE', 'zip_code'], dtype='object')"
      ]
     },
     "execution_count": 6,
     "metadata": {},
     "output_type": "execute_result"
    }
   ],
   "source": [
    "##facility##\n",
    "df_facility = pd.read_csv(data_path + 'Provider/facility.csv')\n",
    "def extract_zip_code(address):\n",
    "    # Regular expression to match 5-digit zip code\n",
    "    match = re.search(r'\\b\\d{5}\\b', address)\n",
    "    if match:\n",
    "        return match.group()\n",
    "    return None\n",
    "\n",
    "df_facility = df_facility[['FACILITYCODE','FACILITYNAME','FACILITYTYPECODE','ADDRESSXML']]\n",
    "df_facility['zip_code'] = df_facility['ADDRESSXML'].apply(lambda x : extract_zip_code(x))\n",
    "df_facility=df_facility.drop(['ADDRESSXML'],axis=1)\n",
    "df_facility.columns"
   ]
  },
  {
   "cell_type": "code",
   "execution_count": 7,
   "id": "bc5b525d-d773-4413-a692-a510e020980e",
   "metadata": {},
   "outputs": [
    {
     "data": {
      "text/plain": [
       "Index(['SpecialtyCode', 'SpecialtyDescription', 'SpecialistDescription'], dtype='object')"
      ]
     },
     "execution_count": 7,
     "metadata": {},
     "output_type": "execute_result"
    }
   ],
   "source": [
    "#speciality\n",
    "df_speciality = pd.read_csv(data_path + 'Provider/speciality.csv')\n",
    "df_speciality = df_speciality[['SpecialtyCode','SpecialtyDescription','SpecialistDescription']]\n",
    "df_speciality.columns"
   ]
  },
  {
   "cell_type": "code",
   "execution_count": 8,
   "id": "f6201652-29b5-421c-852d-1492ea09483f",
   "metadata": {},
   "outputs": [
    {
     "data": {
      "text/plain": [
       "Index(['PROVIDERCODE', 'FACILITYCODE'], dtype='object')"
      ]
     },
     "execution_count": 8,
     "metadata": {},
     "output_type": "execute_result"
    }
   ],
   "source": [
    "#provider facility\n",
    "df_provider_facility = pd.read_csv(data_path + 'Provider/ProviderToFacility.csv')\n",
    "df_provider_facility = df_provider_facility[['PROVIDERCODE','FACILITYCODE']]\n",
    "df_provider_facility.columns"
   ]
  },
  {
   "cell_type": "code",
   "execution_count": 9,
   "id": "3dbf3b3f-f00d-4354-9f64-9d549dd70538",
   "metadata": {},
   "outputs": [
    {
     "data": {
      "text/plain": [
       "Index(['PROVIDERCODE', 'SPECIALTYCODE', 'SPECIALTYRANKCALCULATED'], dtype='object')"
      ]
     },
     "execution_count": 9,
     "metadata": {},
     "output_type": "execute_result"
    }
   ],
   "source": [
    "#provider spciality\n",
    "df_provider_speciality = pd.read_csv(data_path + 'Provider/ProviderToSpecailty.csv')\n",
    "df_provider_speciality = df_provider_speciality[['PROVIDERCODE','SPECIALTYCODE','SPECIALTYRANKCALCULATED']]\n",
    "df_provider_speciality.columns"
   ]
  },
  {
   "cell_type": "code",
   "execution_count": 10,
   "id": "9ae6d433-6862-4def-8f5b-6c7cc20eabf4",
   "metadata": {},
   "outputs": [
    {
     "data": {
      "text/plain": [
       "Index(['zip_code', 'FACILITYCODE', 'ProviderCode', 'SpecialtyCode',\n",
       "       'SpecialtyDescription'],\n",
       "      dtype='object')"
      ]
     },
     "execution_count": 10,
     "metadata": {},
     "output_type": "execute_result"
    }
   ],
   "source": [
    "## create segments \n",
    "# Merge the dataframes to create the desired dataframe\n",
    "df_merged = df_provider_facility.merge(df_facility, on='FACILITYCODE').merge(df_provider_speciality, on='PROVIDERCODE').merge(df_speciality, left_on='SPECIALTYCODE', right_on='SpecialtyCode')\n",
    "# Select the relevant columns and drop duplicates to get unique combinations\n",
    "df_segments = df_merged[['zip_code', 'FACILITYCODE', 'PROVIDERCODE', 'SpecialtyCode', 'SpecialtyDescription']].drop_duplicates()\n",
    "# Display the unique combinations\n",
    "df_segments = df_segments.rename(columns={'PROVIDERCODE': 'ProviderCode'})\n",
    "df_segments.columns"
   ]
  },
  {
   "cell_type": "code",
   "execution_count": 11,
   "id": "7fc35a4d-f9ba-433d-8c7e-c632fce3df86",
   "metadata": {},
   "outputs": [
    {
     "data": {
      "text/plain": [
       "Index(['PERSON_ID', 'age', 'GENDER'], dtype='object')"
      ]
     },
     "execution_count": 11,
     "metadata": {},
     "output_type": "execute_result"
    }
   ],
   "source": [
    "## load demographics ##\n",
    "person_df = pd.read_csv(data_path + 'person_demographics.csv')\n",
    "person_df = person_df[['PERSON_ID','age','GENDER']]\n",
    "person_df['GENDER'] = person_df['GENDER'].apply(lambda x: 'Male' if pd.isnull(x) or x != 'Female' else 'Female')\n",
    "person_df.columns"
   ]
  },
  {
   "cell_type": "code",
   "execution_count": 12,
   "id": "3a3687dd-30a5-431d-b246-1075da6c6764",
   "metadata": {},
   "outputs": [
    {
     "data": {
      "text/plain": [
       "Male      7791\n",
       "Female    2209\n",
       "Name: GENDER, dtype: int64"
      ]
     },
     "execution_count": 12,
     "metadata": {},
     "output_type": "execute_result"
    }
   ],
   "source": [
    "person_df.GENDER.value_counts()"
   ]
  },
  {
   "cell_type": "code",
   "execution_count": 13,
   "id": "790767e2-4986-41da-8d04-428eb5a73430",
   "metadata": {},
   "outputs": [],
   "source": [
    "provider_df = pd.read_csv(data_path + 'Provider/provider.csv')\n",
    "#provider_df.columns"
   ]
  },
  {
   "cell_type": "code",
   "execution_count": 14,
   "id": "72d1b247-0f07-4b33-b97a-0a233500df87",
   "metadata": {},
   "outputs": [
    {
     "data": {
      "text/plain": [
       "Index(['PERSON_ID', 'ProviderCode', 'SurveyAnswerScore', 'RecommendStar',\n",
       "       'ratings'],\n",
       "      dtype='object')"
      ]
     },
     "execution_count": 14,
     "metadata": {},
     "output_type": "execute_result"
    }
   ],
   "source": [
    "#included ratings\n",
    "eligible_persons = list((set(df_ratings_score.PERSON_ID).intersection(set(person_df.PERSON_ID))))\n",
    "df_ratings_fltrd = df_ratings_score[df_ratings_score['PERSON_ID'].isin(eligible_persons)]\n",
    "df_ratings_fltrd.columns"
   ]
  },
  {
   "cell_type": "code",
   "execution_count": 15,
   "id": "adf8558f-c0db-4c2a-8c9e-48ec14620b08",
   "metadata": {},
   "outputs": [],
   "source": [
    "#provider ranking \n",
    "df_provider_rankings = df_ratings_score.groupby(['ProviderCode']).agg({'SurveyAnswerScore' : 'mean','RecommendStar':'mean'}).reset_index()\n",
    "df_provider_rankings['SurveyAnswerScore'] = np.round(df_provider_rankings['SurveyAnswerScore'],2)\n",
    "df_provider_rankings['RecommendStar'] = np.round(df_provider_rankings['RecommendStar'],2)\n",
    "df_provider_rankings = df_provider_rankings.rename(columns={'SurveyAnswerScore': 'survey_score' , 'RecommendStar' : 'star_rating'})"
   ]
  },
  {
   "cell_type": "code",
   "execution_count": 16,
   "id": "b857298e-6571-490d-b9c5-49e326ff9c4e",
   "metadata": {},
   "outputs": [
    {
     "data": {
      "text/plain": [
       "Index(['ProviderCode', 'survey_score', 'star_rating'], dtype='object')"
      ]
     },
     "execution_count": 16,
     "metadata": {},
     "output_type": "execute_result"
    }
   ],
   "source": [
    "df_provider_rankings.columns"
   ]
  },
  {
   "cell_type": "code",
   "execution_count": 17,
   "id": "7f414ff5-70c5-455e-95aa-e9b98b453b19",
   "metadata": {},
   "outputs": [
    {
     "data": {
      "text/html": [
       "<div>\n",
       "<style scoped>\n",
       "    .dataframe tbody tr th:only-of-type {\n",
       "        vertical-align: middle;\n",
       "    }\n",
       "\n",
       "    .dataframe tbody tr th {\n",
       "        vertical-align: top;\n",
       "    }\n",
       "\n",
       "    .dataframe thead th {\n",
       "        text-align: right;\n",
       "    }\n",
       "</style>\n",
       "<table border=\"1\" class=\"dataframe\">\n",
       "  <thead>\n",
       "    <tr style=\"text-align: right;\">\n",
       "      <th></th>\n",
       "      <th>PERSON_ID</th>\n",
       "      <th>age</th>\n",
       "      <th>GENDER</th>\n",
       "    </tr>\n",
       "  </thead>\n",
       "  <tbody>\n",
       "    <tr>\n",
       "      <th>1190</th>\n",
       "      <td>00123db9a36e9f9277d6ce32c3fdd1e49809845399741b...</td>\n",
       "      <td>39.0</td>\n",
       "      <td>Female</td>\n",
       "    </tr>\n",
       "  </tbody>\n",
       "</table>\n",
       "</div>"
      ],
      "text/plain": [
       "                                              PERSON_ID   age  GENDER\n",
       "1190  00123db9a36e9f9277d6ce32c3fdd1e49809845399741b...  39.0  Female"
      ]
     },
     "execution_count": 17,
     "metadata": {},
     "output_type": "execute_result"
    }
   ],
   "source": [
    "## this is person demographics\n",
    "person_df= person_df[person_df['PERSON_ID'].isin(eligible_persons)]\n",
    "person_df = person_df.sort_values(by=['PERSON_ID', 'GENDER', 'age'], ascending=[True, True, False])\n",
    "person_df = person_df.drop_duplicates(subset='PERSON_ID', keep='first')\n",
    "person_df.head(1)"
   ]
  },
  {
   "cell_type": "code",
   "execution_count": 18,
   "id": "916fa26d-dca5-4ee5-8def-bd03b35c3bc2",
   "metadata": {},
   "outputs": [],
   "source": [
    "ratings_df  = df_ratings_score\n",
    "provider_rankings_df  = df_provider_rankings\n",
    "segments_df  = df_segments\n",
    "facility_df  = df_facility\n",
    "provider_facility_df = df_provider_facility\n",
    "provider_specialty_df = df_provider_speciality"
   ]
  },
  {
   "cell_type": "code",
   "execution_count": 19,
   "id": "2e2d3917-90b8-432f-b2b1-54029f21a698",
   "metadata": {},
   "outputs": [
    {
     "data": {
      "text/html": [
       "<div>\n",
       "<style scoped>\n",
       "    .dataframe tbody tr th:only-of-type {\n",
       "        vertical-align: middle;\n",
       "    }\n",
       "\n",
       "    .dataframe tbody tr th {\n",
       "        vertical-align: top;\n",
       "    }\n",
       "\n",
       "    .dataframe thead th {\n",
       "        text-align: right;\n",
       "    }\n",
       "</style>\n",
       "<table border=\"1\" class=\"dataframe\">\n",
       "  <thead>\n",
       "    <tr style=\"text-align: right;\">\n",
       "      <th></th>\n",
       "      <th>PERSON_ID</th>\n",
       "      <th>ProviderCode</th>\n",
       "      <th>SurveyAnswerScore</th>\n",
       "      <th>RecommendStar</th>\n",
       "      <th>ratings</th>\n",
       "      <th>age</th>\n",
       "      <th>survey_score</th>\n",
       "      <th>star_rating</th>\n",
       "      <th>zip_code</th>\n",
       "      <th>FACILITYCODE</th>\n",
       "      <th>SpecialtyCode</th>\n",
       "      <th>SpecialtyDescription</th>\n",
       "      <th>GENDER_Female</th>\n",
       "      <th>GENDER_Male</th>\n",
       "    </tr>\n",
       "  </thead>\n",
       "  <tbody>\n",
       "    <tr>\n",
       "      <th>0</th>\n",
       "      <td>00123db9a36e9f9277d6ce32c3fdd1e49809845399741b...</td>\n",
       "      <td>XF6BG</td>\n",
       "      <td>2.500000</td>\n",
       "      <td>5.0</td>\n",
       "      <td>3.75</td>\n",
       "      <td>39.0</td>\n",
       "      <td>3.05</td>\n",
       "      <td>3.67</td>\n",
       "      <td>34950</td>\n",
       "      <td>81DB7D</td>\n",
       "      <td>PS305</td>\n",
       "      <td>Family Medicine</td>\n",
       "      <td>1</td>\n",
       "      <td>0</td>\n",
       "    </tr>\n",
       "    <tr>\n",
       "      <th>1</th>\n",
       "      <td>32e8750a2e31a34c71d700df32a773adcab8db3109117b...</td>\n",
       "      <td>XF6BG</td>\n",
       "      <td>4.708333</td>\n",
       "      <td>5.0</td>\n",
       "      <td>4.85</td>\n",
       "      <td>39.0</td>\n",
       "      <td>3.05</td>\n",
       "      <td>3.67</td>\n",
       "      <td>34950</td>\n",
       "      <td>81DB7D</td>\n",
       "      <td>PS305</td>\n",
       "      <td>Family Medicine</td>\n",
       "      <td>0</td>\n",
       "      <td>1</td>\n",
       "    </tr>\n",
       "  </tbody>\n",
       "</table>\n",
       "</div>"
      ],
      "text/plain": [
       "                                           PERSON_ID ProviderCode  \\\n",
       "0  00123db9a36e9f9277d6ce32c3fdd1e49809845399741b...        XF6BG   \n",
       "1  32e8750a2e31a34c71d700df32a773adcab8db3109117b...        XF6BG   \n",
       "\n",
       "   SurveyAnswerScore  RecommendStar  ratings   age  survey_score  star_rating  \\\n",
       "0           2.500000            5.0     3.75  39.0          3.05         3.67   \n",
       "1           4.708333            5.0     4.85  39.0          3.05         3.67   \n",
       "\n",
       "  zip_code FACILITYCODE SpecialtyCode SpecialtyDescription  GENDER_Female  \\\n",
       "0    34950       81DB7D         PS305      Family Medicine              1   \n",
       "1    34950       81DB7D         PS305      Family Medicine              0   \n",
       "\n",
       "   GENDER_Male  \n",
       "0            0  \n",
       "1            1  "
      ]
     },
     "execution_count": 19,
     "metadata": {},
     "output_type": "execute_result"
    }
   ],
   "source": [
    "interaction_df = pd.merge(ratings_df, person_df, on='PERSON_ID')\n",
    "interaction_df = pd.merge(interaction_df, provider_rankings_df, on='ProviderCode')\n",
    "interaction_df = pd.merge(interaction_df, segments_df, on='ProviderCode')\n",
    "\n",
    "interaction_df = pd.get_dummies(interaction_df, columns=['GENDER'])\n",
    "\n",
    "interaction_df = interaction_df.dropna()\n",
    "interaction_df=interaction_df.drop_duplicates()\n",
    "interaction_df.head(2)"
   ]
  },
  {
   "cell_type": "code",
   "execution_count": 20,
   "id": "ec66da34-ecc6-4dff-b279-4c7d0a9e5cdc",
   "metadata": {},
   "outputs": [],
   "source": [
    "interaction_df.to_csv('metadata/interactions.csv')\n",
    "provider_rankings_df.to_csv('metadata/provider_profile.csv')\n",
    "segments_df.to_csv('metadata/zip-speciality-segments.csv')\n",
    "facility_df.to_csv('metadata/facility-details.csv')\n",
    "provider_facility_df.to_csv('metadata/provider-facility-map.csv')\n",
    "provider_specialty_df.to_csv('metadata/provider-speciality-map.csv')\n",
    "df_speciality.to_csv('metadata/spciality-details.csv')\n",
    "person_df.to_csv('metadata/person-demographics.csv')"
   ]
  },
  {
   "cell_type": "code",
   "execution_count": 21,
   "id": "869ddd0b-a523-4a76-b189-4eb7804fd07e",
   "metadata": {},
   "outputs": [
    {
     "data": {
      "text/html": [
       "<div>\n",
       "<style scoped>\n",
       "    .dataframe tbody tr th:only-of-type {\n",
       "        vertical-align: middle;\n",
       "    }\n",
       "\n",
       "    .dataframe tbody tr th {\n",
       "        vertical-align: top;\n",
       "    }\n",
       "\n",
       "    .dataframe thead th {\n",
       "        text-align: right;\n",
       "    }\n",
       "</style>\n",
       "<table border=\"1\" class=\"dataframe\">\n",
       "  <thead>\n",
       "    <tr style=\"text-align: right;\">\n",
       "      <th></th>\n",
       "      <th>zip_code</th>\n",
       "      <th>FACILITYCODE</th>\n",
       "      <th>ProviderCode</th>\n",
       "      <th>SpecialtyCode</th>\n",
       "      <th>SpecialtyDescription</th>\n",
       "    </tr>\n",
       "  </thead>\n",
       "  <tbody>\n",
       "    <tr>\n",
       "      <th>0</th>\n",
       "      <td>33328</td>\n",
       "      <td>100360</td>\n",
       "      <td>YVMCR</td>\n",
       "      <td>PS628</td>\n",
       "      <td>Orthopedic Spine Surgery</td>\n",
       "    </tr>\n",
       "    <tr>\n",
       "      <th>4</th>\n",
       "      <td>20900</td>\n",
       "      <td>6E1D9D</td>\n",
       "      <td>YVMCR</td>\n",
       "      <td>PS628</td>\n",
       "      <td>Orthopedic Spine Surgery</td>\n",
       "    </tr>\n",
       "    <tr>\n",
       "      <th>8</th>\n",
       "      <td>33328</td>\n",
       "      <td>100360</td>\n",
       "      <td>XYN6P6J</td>\n",
       "      <td>PS628</td>\n",
       "      <td>Orthopedic Spine Surgery</td>\n",
       "    </tr>\n",
       "    <tr>\n",
       "      <th>10</th>\n",
       "      <td>33029</td>\n",
       "      <td>9D6BB8</td>\n",
       "      <td>XYN6P6J</td>\n",
       "      <td>PS628</td>\n",
       "      <td>Orthopedic Spine Surgery</td>\n",
       "    </tr>\n",
       "    <tr>\n",
       "      <th>11</th>\n",
       "      <td>33133</td>\n",
       "      <td>C89B06</td>\n",
       "      <td>XYN6P6J</td>\n",
       "      <td>PS628</td>\n",
       "      <td>Orthopedic Spine Surgery</td>\n",
       "    </tr>\n",
       "    <tr>\n",
       "      <th>...</th>\n",
       "      <td>...</td>\n",
       "      <td>...</td>\n",
       "      <td>...</td>\n",
       "      <td>...</td>\n",
       "      <td>...</td>\n",
       "    </tr>\n",
       "    <tr>\n",
       "      <th>2427</th>\n",
       "      <td>33324</td>\n",
       "      <td>54F042</td>\n",
       "      <td>Y9MFT</td>\n",
       "      <td>PS250</td>\n",
       "      <td>Endocrinology, Diabetes &amp; Metabolism</td>\n",
       "    </tr>\n",
       "    <tr>\n",
       "      <th>2428</th>\n",
       "      <td>34952</td>\n",
       "      <td>EA4BDF</td>\n",
       "      <td>XYMD45G</td>\n",
       "      <td>PS250</td>\n",
       "      <td>Endocrinology, Diabetes &amp; Metabolism</td>\n",
       "    </tr>\n",
       "    <tr>\n",
       "      <th>2429</th>\n",
       "      <td>34952</td>\n",
       "      <td>EA4BDF</td>\n",
       "      <td>26GKH</td>\n",
       "      <td>PS250</td>\n",
       "      <td>Endocrinology, Diabetes &amp; Metabolism</td>\n",
       "    </tr>\n",
       "    <tr>\n",
       "      <th>2430</th>\n",
       "      <td>33324</td>\n",
       "      <td>54F042</td>\n",
       "      <td>22F4V</td>\n",
       "      <td>PS328</td>\n",
       "      <td>Dentistry</td>\n",
       "    </tr>\n",
       "    <tr>\n",
       "      <th>2433</th>\n",
       "      <td>34952</td>\n",
       "      <td>EA4BDF</td>\n",
       "      <td>X6XWF</td>\n",
       "      <td>PS981</td>\n",
       "      <td>Wound &amp; Burn Care</td>\n",
       "    </tr>\n",
       "  </tbody>\n",
       "</table>\n",
       "<p>1740 rows × 5 columns</p>\n",
       "</div>"
      ],
      "text/plain": [
       "     zip_code FACILITYCODE ProviderCode SpecialtyCode  \\\n",
       "0       33328       100360        YVMCR         PS628   \n",
       "4       20900       6E1D9D        YVMCR         PS628   \n",
       "8       33328       100360      XYN6P6J         PS628   \n",
       "10      33029       9D6BB8      XYN6P6J         PS628   \n",
       "11      33133       C89B06      XYN6P6J         PS628   \n",
       "...       ...          ...          ...           ...   \n",
       "2427    33324       54F042        Y9MFT         PS250   \n",
       "2428    34952       EA4BDF      XYMD45G         PS250   \n",
       "2429    34952       EA4BDF        26GKH         PS250   \n",
       "2430    33324       54F042        22F4V         PS328   \n",
       "2433    34952       EA4BDF        X6XWF         PS981   \n",
       "\n",
       "                      SpecialtyDescription  \n",
       "0                 Orthopedic Spine Surgery  \n",
       "4                 Orthopedic Spine Surgery  \n",
       "8                 Orthopedic Spine Surgery  \n",
       "10                Orthopedic Spine Surgery  \n",
       "11                Orthopedic Spine Surgery  \n",
       "...                                    ...  \n",
       "2427  Endocrinology, Diabetes & Metabolism  \n",
       "2428  Endocrinology, Diabetes & Metabolism  \n",
       "2429  Endocrinology, Diabetes & Metabolism  \n",
       "2430                             Dentistry  \n",
       "2433                     Wound & Burn Care  \n",
       "\n",
       "[1740 rows x 5 columns]"
      ]
     },
     "execution_count": 21,
     "metadata": {},
     "output_type": "execute_result"
    }
   ],
   "source": [
    "segments_df"
   ]
  },
  {
   "cell_type": "code",
   "execution_count": null,
   "id": "13881939-2603-4a92-b90e-e45cba709ac2",
   "metadata": {},
   "outputs": [],
   "source": []
  }
 ],
 "metadata": {
  "kernelspec": {
   "display_name": "Python 3 (ipykernel)",
   "language": "python",
   "name": "python3"
  },
  "language_info": {
   "codemirror_mode": {
    "name": "ipython",
    "version": 3
   },
   "file_extension": ".py",
   "mimetype": "text/x-python",
   "name": "python",
   "nbconvert_exporter": "python",
   "pygments_lexer": "ipython3",
   "version": "3.9.13"
  }
 },
 "nbformat": 4,
 "nbformat_minor": 5
}
