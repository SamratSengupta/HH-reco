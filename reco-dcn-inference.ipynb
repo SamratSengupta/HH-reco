{
 "cells": [
  {
   "cell_type": "code",
   "execution_count": 1,
   "id": "180df6bd-da94-48df-8dc8-6fd7b6c552c7",
   "metadata": {},
   "outputs": [],
   "source": [
    "import numpy as np\n",
    "import pandas as pd\n",
    "import tensorflow as tf"
   ]
  },
  {
   "cell_type": "code",
   "execution_count": 2,
   "id": "14318179-74f2-4dca-9c4b-a5707c411a37",
   "metadata": {},
   "outputs": [],
   "source": [
    "dcn_model = tf.keras.models.load_model('models/best_dcn.h5')"
   ]
  },
  {
   "cell_type": "code",
   "execution_count": 3,
   "id": "462f29e0-8940-4f76-8763-643ebd2451c1",
   "metadata": {},
   "outputs": [],
   "source": [
    "interaction_df = pd.read_csv('metadata/interactions.csv').drop('Unnamed: 0',axis=1)\n",
    "df_segments = pd.read_csv('metadata/zip-speciality-segments.csv').drop('Unnamed: 0',axis=1)\n"
   ]
  },
  {
   "cell_type": "code",
   "execution_count": 4,
   "id": "2b3a2ea1-0eea-4290-b033-327686d3c445",
   "metadata": {},
   "outputs": [],
   "source": [
    "user_id_map = {id: idx for idx, id in enumerate(interaction_df['PERSON_ID'].unique())}\n",
    "provider_id_map = {id: idx for idx, id in enumerate(interaction_df['ProviderCode'].unique())}\n"
   ]
  },
  {
   "cell_type": "code",
   "execution_count": 5,
   "id": "3a5b36d8-7bbe-426a-b9cb-4f1663cad14f",
   "metadata": {},
   "outputs": [
    {
     "data": {
      "text/html": [
       "<div>\n",
       "<style scoped>\n",
       "    .dataframe tbody tr th:only-of-type {\n",
       "        vertical-align: middle;\n",
       "    }\n",
       "\n",
       "    .dataframe tbody tr th {\n",
       "        vertical-align: top;\n",
       "    }\n",
       "\n",
       "    .dataframe thead th {\n",
       "        text-align: right;\n",
       "    }\n",
       "</style>\n",
       "<table border=\"1\" class=\"dataframe\">\n",
       "  <thead>\n",
       "    <tr style=\"text-align: right;\">\n",
       "      <th></th>\n",
       "      <th>zip_code</th>\n",
       "      <th>FACILITYCODE</th>\n",
       "      <th>ProviderCode</th>\n",
       "      <th>SpecialtyCode</th>\n",
       "      <th>SpecialtyDescription</th>\n",
       "    </tr>\n",
       "  </thead>\n",
       "  <tbody>\n",
       "    <tr>\n",
       "      <th>0</th>\n",
       "      <td>33328</td>\n",
       "      <td>100360</td>\n",
       "      <td>YVMCR</td>\n",
       "      <td>PS628</td>\n",
       "      <td>Orthopedic Spine Surgery</td>\n",
       "    </tr>\n",
       "    <tr>\n",
       "      <th>1</th>\n",
       "      <td>20900</td>\n",
       "      <td>6E1D9D</td>\n",
       "      <td>YVMCR</td>\n",
       "      <td>PS628</td>\n",
       "      <td>Orthopedic Spine Surgery</td>\n",
       "    </tr>\n",
       "  </tbody>\n",
       "</table>\n",
       "</div>"
      ],
      "text/plain": [
       "   zip_code FACILITYCODE ProviderCode SpecialtyCode      SpecialtyDescription\n",
       "0     33328       100360        YVMCR         PS628  Orthopedic Spine Surgery\n",
       "1     20900       6E1D9D        YVMCR         PS628  Orthopedic Spine Surgery"
      ]
     },
     "execution_count": 5,
     "metadata": {},
     "output_type": "execute_result"
    }
   ],
   "source": [
    "df_segments.head(2)"
   ]
  },
  {
   "cell_type": "code",
   "execution_count": 6,
   "id": "71410c64-e556-4dec-b401-7ef9ef3faa76",
   "metadata": {},
   "outputs": [
    {
     "data": {
      "text/html": [
       "<div>\n",
       "<style scoped>\n",
       "    .dataframe tbody tr th:only-of-type {\n",
       "        vertical-align: middle;\n",
       "    }\n",
       "\n",
       "    .dataframe tbody tr th {\n",
       "        vertical-align: top;\n",
       "    }\n",
       "\n",
       "    .dataframe thead th {\n",
       "        text-align: right;\n",
       "    }\n",
       "</style>\n",
       "<table border=\"1\" class=\"dataframe\">\n",
       "  <thead>\n",
       "    <tr style=\"text-align: right;\">\n",
       "      <th></th>\n",
       "      <th>PERSON_ID</th>\n",
       "      <th>ProviderCode</th>\n",
       "      <th>SurveyAnswerScore</th>\n",
       "      <th>RecommendStar</th>\n",
       "      <th>ratings</th>\n",
       "      <th>age</th>\n",
       "      <th>survey_score</th>\n",
       "      <th>star_rating</th>\n",
       "      <th>zip_code</th>\n",
       "      <th>FACILITYCODE</th>\n",
       "      <th>SpecialtyCode</th>\n",
       "      <th>SpecialtyDescription</th>\n",
       "      <th>GENDER_Female</th>\n",
       "      <th>GENDER_Male</th>\n",
       "    </tr>\n",
       "  </thead>\n",
       "  <tbody>\n",
       "    <tr>\n",
       "      <th>0</th>\n",
       "      <td>00123db9a36e9f9277d6ce32c3fdd1e49809845399741b...</td>\n",
       "      <td>XF6BG</td>\n",
       "      <td>2.500000</td>\n",
       "      <td>5.0</td>\n",
       "      <td>3.75</td>\n",
       "      <td>39.0</td>\n",
       "      <td>3.05</td>\n",
       "      <td>3.67</td>\n",
       "      <td>34950</td>\n",
       "      <td>81DB7D</td>\n",
       "      <td>PS305</td>\n",
       "      <td>Family Medicine</td>\n",
       "      <td>1</td>\n",
       "      <td>0</td>\n",
       "    </tr>\n",
       "    <tr>\n",
       "      <th>1</th>\n",
       "      <td>32e8750a2e31a34c71d700df32a773adcab8db3109117b...</td>\n",
       "      <td>XF6BG</td>\n",
       "      <td>4.708333</td>\n",
       "      <td>5.0</td>\n",
       "      <td>4.85</td>\n",
       "      <td>39.0</td>\n",
       "      <td>3.05</td>\n",
       "      <td>3.67</td>\n",
       "      <td>34950</td>\n",
       "      <td>81DB7D</td>\n",
       "      <td>PS305</td>\n",
       "      <td>Family Medicine</td>\n",
       "      <td>0</td>\n",
       "      <td>1</td>\n",
       "    </tr>\n",
       "  </tbody>\n",
       "</table>\n",
       "</div>"
      ],
      "text/plain": [
       "                                           PERSON_ID ProviderCode  \\\n",
       "0  00123db9a36e9f9277d6ce32c3fdd1e49809845399741b...        XF6BG   \n",
       "1  32e8750a2e31a34c71d700df32a773adcab8db3109117b...        XF6BG   \n",
       "\n",
       "   SurveyAnswerScore  RecommendStar  ratings   age  survey_score  star_rating  \\\n",
       "0           2.500000            5.0     3.75  39.0          3.05         3.67   \n",
       "1           4.708333            5.0     4.85  39.0          3.05         3.67   \n",
       "\n",
       "   zip_code FACILITYCODE SpecialtyCode SpecialtyDescription  GENDER_Female  \\\n",
       "0     34950       81DB7D         PS305      Family Medicine              1   \n",
       "1     34950       81DB7D         PS305      Family Medicine              0   \n",
       "\n",
       "   GENDER_Male  \n",
       "0            0  \n",
       "1            1  "
      ]
     },
     "execution_count": 6,
     "metadata": {},
     "output_type": "execute_result"
    }
   ],
   "source": [
    "interaction_df.head(2)"
   ]
  },
  {
   "cell_type": "code",
   "execution_count": 7,
   "id": "0c5fda0e-b298-4047-a8d8-1424498a3239",
   "metadata": {},
   "outputs": [],
   "source": [
    "def get_recommendations(user_id, zip_code, specialty_code, top_n=5):\n",
    "    # Filter providers based on zip code and specialty code\n",
    "    filtered_providers = df_segments[(df_segments['zip_code'] == zip_code) &\n",
    "                                     (df_segments['SpecialtyCode'] == specialty_code)]\n",
    "\n",
    "    filtrd_prov_ids = filtered_providers['ProviderCode'].unique().tolist()\n",
    "\n",
    "    filtered_providers = interaction_df[interaction_df['ProviderCode'].isin(filtrd_prov_ids)]\n",
    "    filtered_providers = filtered_providers[['ProviderCode','survey_score','star_rating']]  \n",
    "    filtered_providers = filtered_providers.drop_duplicates()\n",
    "     \n",
    "    \n",
    "   \n",
    "    if filtered_providers.empty:\n",
    "        return []\n",
    "\n",
    "    # Prepare user features\n",
    "    user_features = interaction_df[interaction_df['PERSON_ID'] == user_id]\n",
    "    \n",
    "    if user_features.empty:\n",
    "        return []\n",
    "\n",
    "    user_idx = user_id_map[user_id]\n",
    "    user_age = user_features['age'].values[0]\n",
    "    user_gender_male = user_features['GENDER_Male'].values[0]\n",
    "    user_gender_female = user_features['GENDER_Female'].values[0]\n",
    "\n",
    "    # Prepare inputs for the model\n",
    "    user_input = np.array([user_idx]).reshape(-1, 1)\n",
    "    user_age_input = np.array([user_age]).reshape(-1, 1)\n",
    "    user_gender_input = np.array([[user_gender_male, user_gender_female]])\n",
    "\n",
    "    recommendations = []\n",
    "\n",
    "    # Predict ratings for each filtered provider\n",
    "    for _, provider in filtered_providers.iterrows():\n",
    "        provider_idx = provider_id_map[provider['ProviderCode']]\n",
    "        provider_survey_score = provider['survey_score']\n",
    "        provider_star_rating = provider['star_rating']\n",
    "\n",
    "        provider_input = np.array([provider_idx]).reshape(-1, 1)\n",
    "        provider_survey_score_input = np.array([provider_survey_score]).reshape(-1, 1)\n",
    "        provider_star_rating_input = np.array([provider_star_rating]).reshape(-1, 1)\n",
    "\n",
    "        # Predict rating\n",
    "        predicted_rating = dcn_model.predict([\n",
    "            user_input,\n",
    "            user_age_input,\n",
    "            user_gender_input,\n",
    "            provider_input,\n",
    "            provider_survey_score_input,\n",
    "            provider_star_rating_input\n",
    "        ])\n",
    "\n",
    "        recommendations.append((provider['ProviderCode'], predicted_rating[0][0]))\n",
    "\n",
    "    # Sort providers based on predicted ratings\n",
    "    recommendations = sorted(recommendations, key=lambda x: x[1], reverse=True)\n",
    "\n",
    "    # Return top N providers\n",
    "    return recommendations[:top_n]\n"
   ]
  },
  {
   "cell_type": "code",
   "execution_count": 8,
   "id": "bd82c2c0-7cc8-419b-9dfa-d0cf12c6ebd1",
   "metadata": {},
   "outputs": [],
   "source": [
    "user_id = \"3a0c21ce669eb780b459e7ba4f7955d5965a561cd6d1be9fddcaa8e9e918b3fb\"\n",
    "zip_code = 20900\n",
    "specialty_code = \"PS628\""
   ]
  },
  {
   "cell_type": "code",
   "execution_count": 9,
   "id": "decf6f61-e10b-43eb-b6f3-5b3734754945",
   "metadata": {},
   "outputs": [
    {
     "name": "stdout",
     "output_type": "stream",
     "text": [
      "1/1 [==============================] - 1s 730ms/step\n",
      "1/1 [==============================] - 0s 25ms/step\n",
      "1/1 [==============================] - 0s 25ms/step\n",
      "1/1 [==============================] - 0s 23ms/step\n",
      "Top Providers: [('XYN6P6J', 16.17348), ('XF8K7', 15.852696), ('YVMCR', 15.729217), ('YFGQD', 15.622549)]\n"
     ]
    }
   ],
   "source": [
    "# Get recommendations\n",
    "top_providers = get_recommendations(user_id, zip_code, specialty_code, top_n=5)\n",
    "print(\"Top Providers:\", top_providers)"
   ]
  },
  {
   "cell_type": "code",
   "execution_count": 11,
   "id": "644398a5-27ad-4980-8061-5b4c54803075",
   "metadata": {},
   "outputs": [
    {
     "data": {
      "text/plain": [
       "[('XYN6P6J', 16.17348),\n",
       " ('XF8K7', 15.852696),\n",
       " ('YVMCR', 15.729217),\n",
       " ('YFGQD', 15.622549)]"
      ]
     },
     "execution_count": 11,
     "metadata": {},
     "output_type": "execute_result"
    }
   ],
   "source": [
    "top_providers"
   ]
  },
  {
   "cell_type": "code",
   "execution_count": null,
   "id": "3750599f-fa0f-47fd-a579-c8a2a0b79c0f",
   "metadata": {},
   "outputs": [],
   "source": []
  }
 ],
 "metadata": {
  "kernelspec": {
   "display_name": "Python 3 (ipykernel)",
   "language": "python",
   "name": "python3"
  },
  "language_info": {
   "codemirror_mode": {
    "name": "ipython",
    "version": 3
   },
   "file_extension": ".py",
   "mimetype": "text/x-python",
   "name": "python",
   "nbconvert_exporter": "python",
   "pygments_lexer": "ipython3",
   "version": "3.9.13"
  }
 },
 "nbformat": 4,
 "nbformat_minor": 5
}
